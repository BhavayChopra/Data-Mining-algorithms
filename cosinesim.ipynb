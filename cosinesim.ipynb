{
 "cells": [
  {
   "cell_type": "code",
   "execution_count": 1,
   "id": "5cab1996",
   "metadata": {},
   "outputs": [],
   "source": [
    "import numpy as np\n",
    "import pandas as pd\n",
    "import matplotlib.pyplot as plt"
   ]
  },
  {
   "cell_type": "code",
   "execution_count": 3,
   "id": "8463a90a",
   "metadata": {},
   "outputs": [
    {
     "data": {
      "text/plain": [
       "['trump proposes to build a wall in border between usa and mexico to stop illegal immigration.',\n",
       " 'trump administration reduces h1b quota for indian software companies',\n",
       " 'bjp says building ram temple is a matter of faith',\n",
       " 'india deports seven rohingya refugees back to myanmar',\n",
       " 'germany accepts 10000 syrian refugees but france has reservations due to terrorism',\n",
       " 'indian software companies hire less engineers due to trump effect',\n",
       " 'software engineers look forward to canada as destination as us reduces h1b quota',\n",
       " 'belgium says “refugees not welcome” due to terrorist incidents']"
      ]
     },
     "execution_count": 3,
     "metadata": {},
     "output_type": "execute_result"
    }
   ],
   "source": [
    "import os\n",
    "doc = [ \"Trump proposes to build a wall in border between USA and Mexico to stop illegal immigration.\",\n",
    "\"Trump administration reduces H1B quota for Indian software companies\",\n",
    "\"BJP says building Ram temple is a matter of faith\",\n",
    "\"India deports seven Rohingya refugees back to Myanmar\",\n",
    "\"Germany accepts 10000 Syrian refugees but France has reservations due to terrorism\",\n",
    "\"Indian software companies hire less engineers due to Trump effect\",\n",
    "\"Software engineers look forward to Canada as destination as US reduces H1B quota\",\n",
    " \"Belgium says “refugees not welcome” due to terrorist incidents\" ]\n",
    "\n",
    "terms = ['Trump','H1B','refugees','immigration','Software','hire','Temple']\n",
    "doc = [i.lower() for i in doc]\n",
    "doc\n",
    "\n"
   ]
  },
  {
   "cell_type": "code",
   "execution_count": 9,
   "id": "7a53a7b2",
   "metadata": {},
   "outputs": [
    {
     "data": {
      "text/plain": [
       "array([[0., 0., 0., 1., 0., 0., 0.],\n",
       "       [0., 0., 0., 0., 0., 0., 0.],\n",
       "       [0., 0., 0., 0., 0., 0., 0.],\n",
       "       [0., 0., 1., 0., 0., 0., 0.],\n",
       "       [0., 0., 1., 0., 0., 0., 0.],\n",
       "       [0., 0., 0., 0., 0., 1., 0.],\n",
       "       [0., 0., 0., 0., 0., 0., 0.],\n",
       "       [0., 0., 1., 0., 0., 0., 0.]])"
      ]
     },
     "execution_count": 9,
     "metadata": {},
     "output_type": "execute_result"
    }
   ],
   "source": [
    "def create_matrix(terms,doc):\n",
    "    mat = np.zeros([len(terms),len(doc)])\n",
    "\n",
    "    for cnt,i in enumerate(terms):\n",
    "        for id,j in enumerate(doc):\n",
    "            if i in j:\n",
    "                mat[cnt][id] = 1\n",
    "\n",
    "    mat = mat.transpose()\n",
    "    return mat\n",
    "\n",
    "mat1 = create_matrix(terms,doc)\n",
    "mat1"
   ]
  },
  {
   "cell_type": "code",
   "execution_count": 14,
   "id": "26defe51",
   "metadata": {},
   "outputs": [
    {
     "data": {
      "text/html": [
       "<div>\n",
       "<style scoped>\n",
       "    .dataframe tbody tr th:only-of-type {\n",
       "        vertical-align: middle;\n",
       "    }\n",
       "\n",
       "    .dataframe tbody tr th {\n",
       "        vertical-align: top;\n",
       "    }\n",
       "\n",
       "    .dataframe thead th {\n",
       "        text-align: right;\n",
       "    }\n",
       "</style>\n",
       "<table border=\"1\" class=\"dataframe\">\n",
       "  <thead>\n",
       "    <tr style=\"text-align: right;\">\n",
       "      <th></th>\n",
       "      <th>10000</th>\n",
       "      <th>accepts</th>\n",
       "      <th>administration</th>\n",
       "      <th>and</th>\n",
       "      <th>as</th>\n",
       "      <th>back</th>\n",
       "      <th>belgium</th>\n",
       "      <th>between</th>\n",
       "      <th>bjp</th>\n",
       "      <th>border</th>\n",
       "      <th>...</th>\n",
       "      <th>syrian</th>\n",
       "      <th>temple</th>\n",
       "      <th>terrorism</th>\n",
       "      <th>terrorist</th>\n",
       "      <th>to</th>\n",
       "      <th>trump</th>\n",
       "      <th>us</th>\n",
       "      <th>usa</th>\n",
       "      <th>wall</th>\n",
       "      <th>welcome</th>\n",
       "    </tr>\n",
       "  </thead>\n",
       "  <tbody>\n",
       "    <tr>\n",
       "      <th>doc1</th>\n",
       "      <td>0</td>\n",
       "      <td>0</td>\n",
       "      <td>0</td>\n",
       "      <td>1</td>\n",
       "      <td>0</td>\n",
       "      <td>0</td>\n",
       "      <td>0</td>\n",
       "      <td>1</td>\n",
       "      <td>0</td>\n",
       "      <td>1</td>\n",
       "      <td>...</td>\n",
       "      <td>0</td>\n",
       "      <td>0</td>\n",
       "      <td>0</td>\n",
       "      <td>0</td>\n",
       "      <td>2</td>\n",
       "      <td>1</td>\n",
       "      <td>0</td>\n",
       "      <td>1</td>\n",
       "      <td>1</td>\n",
       "      <td>0</td>\n",
       "    </tr>\n",
       "    <tr>\n",
       "      <th>doc2</th>\n",
       "      <td>0</td>\n",
       "      <td>0</td>\n",
       "      <td>1</td>\n",
       "      <td>0</td>\n",
       "      <td>0</td>\n",
       "      <td>0</td>\n",
       "      <td>0</td>\n",
       "      <td>0</td>\n",
       "      <td>0</td>\n",
       "      <td>0</td>\n",
       "      <td>...</td>\n",
       "      <td>0</td>\n",
       "      <td>0</td>\n",
       "      <td>0</td>\n",
       "      <td>0</td>\n",
       "      <td>0</td>\n",
       "      <td>1</td>\n",
       "      <td>0</td>\n",
       "      <td>0</td>\n",
       "      <td>0</td>\n",
       "      <td>0</td>\n",
       "    </tr>\n",
       "    <tr>\n",
       "      <th>doc3</th>\n",
       "      <td>0</td>\n",
       "      <td>0</td>\n",
       "      <td>0</td>\n",
       "      <td>0</td>\n",
       "      <td>0</td>\n",
       "      <td>0</td>\n",
       "      <td>0</td>\n",
       "      <td>0</td>\n",
       "      <td>1</td>\n",
       "      <td>0</td>\n",
       "      <td>...</td>\n",
       "      <td>0</td>\n",
       "      <td>1</td>\n",
       "      <td>0</td>\n",
       "      <td>0</td>\n",
       "      <td>0</td>\n",
       "      <td>0</td>\n",
       "      <td>0</td>\n",
       "      <td>0</td>\n",
       "      <td>0</td>\n",
       "      <td>0</td>\n",
       "    </tr>\n",
       "    <tr>\n",
       "      <th>doc4</th>\n",
       "      <td>0</td>\n",
       "      <td>0</td>\n",
       "      <td>0</td>\n",
       "      <td>0</td>\n",
       "      <td>0</td>\n",
       "      <td>1</td>\n",
       "      <td>0</td>\n",
       "      <td>0</td>\n",
       "      <td>0</td>\n",
       "      <td>0</td>\n",
       "      <td>...</td>\n",
       "      <td>0</td>\n",
       "      <td>0</td>\n",
       "      <td>0</td>\n",
       "      <td>0</td>\n",
       "      <td>1</td>\n",
       "      <td>0</td>\n",
       "      <td>0</td>\n",
       "      <td>0</td>\n",
       "      <td>0</td>\n",
       "      <td>0</td>\n",
       "    </tr>\n",
       "    <tr>\n",
       "      <th>doc5</th>\n",
       "      <td>1</td>\n",
       "      <td>1</td>\n",
       "      <td>0</td>\n",
       "      <td>0</td>\n",
       "      <td>0</td>\n",
       "      <td>0</td>\n",
       "      <td>0</td>\n",
       "      <td>0</td>\n",
       "      <td>0</td>\n",
       "      <td>0</td>\n",
       "      <td>...</td>\n",
       "      <td>1</td>\n",
       "      <td>0</td>\n",
       "      <td>1</td>\n",
       "      <td>0</td>\n",
       "      <td>1</td>\n",
       "      <td>0</td>\n",
       "      <td>0</td>\n",
       "      <td>0</td>\n",
       "      <td>0</td>\n",
       "      <td>0</td>\n",
       "    </tr>\n",
       "    <tr>\n",
       "      <th>doc6</th>\n",
       "      <td>0</td>\n",
       "      <td>0</td>\n",
       "      <td>0</td>\n",
       "      <td>0</td>\n",
       "      <td>0</td>\n",
       "      <td>0</td>\n",
       "      <td>0</td>\n",
       "      <td>0</td>\n",
       "      <td>0</td>\n",
       "      <td>0</td>\n",
       "      <td>...</td>\n",
       "      <td>0</td>\n",
       "      <td>0</td>\n",
       "      <td>0</td>\n",
       "      <td>0</td>\n",
       "      <td>1</td>\n",
       "      <td>1</td>\n",
       "      <td>0</td>\n",
       "      <td>0</td>\n",
       "      <td>0</td>\n",
       "      <td>0</td>\n",
       "    </tr>\n",
       "    <tr>\n",
       "      <th>doc7</th>\n",
       "      <td>0</td>\n",
       "      <td>0</td>\n",
       "      <td>0</td>\n",
       "      <td>0</td>\n",
       "      <td>2</td>\n",
       "      <td>0</td>\n",
       "      <td>0</td>\n",
       "      <td>0</td>\n",
       "      <td>0</td>\n",
       "      <td>0</td>\n",
       "      <td>...</td>\n",
       "      <td>0</td>\n",
       "      <td>0</td>\n",
       "      <td>0</td>\n",
       "      <td>0</td>\n",
       "      <td>1</td>\n",
       "      <td>0</td>\n",
       "      <td>1</td>\n",
       "      <td>0</td>\n",
       "      <td>0</td>\n",
       "      <td>0</td>\n",
       "    </tr>\n",
       "    <tr>\n",
       "      <th>doc8</th>\n",
       "      <td>0</td>\n",
       "      <td>0</td>\n",
       "      <td>0</td>\n",
       "      <td>0</td>\n",
       "      <td>0</td>\n",
       "      <td>0</td>\n",
       "      <td>1</td>\n",
       "      <td>0</td>\n",
       "      <td>0</td>\n",
       "      <td>0</td>\n",
       "      <td>...</td>\n",
       "      <td>0</td>\n",
       "      <td>0</td>\n",
       "      <td>0</td>\n",
       "      <td>1</td>\n",
       "      <td>1</td>\n",
       "      <td>0</td>\n",
       "      <td>0</td>\n",
       "      <td>0</td>\n",
       "      <td>0</td>\n",
       "      <td>1</td>\n",
       "    </tr>\n",
       "  </tbody>\n",
       "</table>\n",
       "<p>8 rows × 63 columns</p>\n",
       "</div>"
      ],
      "text/plain": [
       "      10000  accepts  administration  and  as  back  belgium  between  bjp  \\\n",
       "doc1      0        0               0    1   0     0        0        1    0   \n",
       "doc2      0        0               1    0   0     0        0        0    0   \n",
       "doc3      0        0               0    0   0     0        0        0    1   \n",
       "doc4      0        0               0    0   0     1        0        0    0   \n",
       "doc5      1        1               0    0   0     0        0        0    0   \n",
       "doc6      0        0               0    0   0     0        0        0    0   \n",
       "doc7      0        0               0    0   2     0        0        0    0   \n",
       "doc8      0        0               0    0   0     0        1        0    0   \n",
       "\n",
       "      border  ...  syrian  temple  terrorism  terrorist  to  trump  us  usa  \\\n",
       "doc1       1  ...       0       0          0          0   2      1   0    1   \n",
       "doc2       0  ...       0       0          0          0   0      1   0    0   \n",
       "doc3       0  ...       0       1          0          0   0      0   0    0   \n",
       "doc4       0  ...       0       0          0          0   1      0   0    0   \n",
       "doc5       0  ...       1       0          1          0   1      0   0    0   \n",
       "doc6       0  ...       0       0          0          0   1      1   0    0   \n",
       "doc7       0  ...       0       0          0          0   1      0   1    0   \n",
       "doc8       0  ...       0       0          0          1   1      0   0    0   \n",
       "\n",
       "      wall  welcome  \n",
       "doc1     1        0  \n",
       "doc2     0        0  \n",
       "doc3     0        0  \n",
       "doc4     0        0  \n",
       "doc5     0        0  \n",
       "doc6     0        0  \n",
       "doc7     0        0  \n",
       "doc8     0        1  \n",
       "\n",
       "[8 rows x 63 columns]"
      ]
     },
     "execution_count": 14,
     "metadata": {},
     "output_type": "execute_result"
    }
   ],
   "source": [
    "from sklearn.feature_extraction.text import CountVectorizer\n",
    "import pandas as pd\n",
    "\n",
    "# Create the Document Term Matrix\n",
    "count_vectorizer = CountVectorizer(stop_words='english')\n",
    "count_vectorizer = CountVectorizer()\n",
    "sparse_matrix = count_vectorizer.fit_transform(doc)\n",
    "\n",
    "# OPTIONAL: Convert Sparse Matrix to Pandas Dataframe if you want to see the word frequencies.\n",
    "doc_term_matrix = sparse_matrix.todense()\n",
    "df = pd.DataFrame(doc_term_matrix, \n",
    "                  columns=count_vectorizer.get_feature_names(), \n",
    "                  index=['doc1', 'doc2', 'doc3', 'doc4', 'doc5', 'doc6','doc7', 'doc8']\n",
    "                 )\n",
    "df"
   ]
  },
  {
   "cell_type": "code",
   "execution_count": 15,
   "id": "d6e12f8f",
   "metadata": {},
   "outputs": [
    {
     "name": "stdout",
     "output_type": "stream",
     "text": [
      "[[1.         0.08084521 0.         0.17149859 0.14002801 0.2300895\n",
      "  0.12524486 0.16169042]\n",
      " [0.08084521 1.         0.         0.         0.         0.42163702\n",
      "  0.34426519 0.        ]\n",
      " [0.         0.         1.         0.         0.         0.\n",
      "  0.         0.11111111]\n",
      " [0.17149859 0.         0.         1.         0.20412415 0.1118034\n",
      "  0.09128709 0.23570226]\n",
      " [0.14002801 0.         0.         0.20412415 1.         0.18257419\n",
      "  0.0745356  0.28867513]\n",
      " [0.2300895  0.42163702 0.         0.1118034  0.18257419 1.\n",
      "  0.24494897 0.21081851]\n",
      " [0.12524486 0.34426519 0.         0.09128709 0.0745356  0.24494897\n",
      "  1.         0.0860663 ]\n",
      " [0.16169042 0.         0.11111111 0.23570226 0.28867513 0.21081851\n",
      "  0.0860663  1.        ]]\n"
     ]
    }
   ],
   "source": [
    "from sklearn.metrics.pairwise import cosine_similarity\n",
    "print(cosine_similarity(df, df))"
   ]
  },
  {
   "cell_type": "code",
   "execution_count": 17,
   "id": "84d30372",
   "metadata": {},
   "outputs": [],
   "source": [
    "from sklearn.feature_extraction.text import CountVectorizer, TfidfTransformer\n",
    "from scipy.cluster import  hierarchy\n",
    "\n",
    "#Vectorizing\n",
    "X = CountVectorizer().fit_transform(doc)\n",
    "X = TfidfTransformer().fit_transform(X)\n",
    "#Clustering\n",
    "X = X.todense()\n",
    "threshold = 0.1\n",
    "Z = hierarchy.linkage(X,\"average\", metric=\"cosine\")\n",
    "C = hierarchy.fcluster(Z, threshold, criterion=\"distance\")"
   ]
  },
  {
   "cell_type": "code",
   "execution_count": 24,
   "id": "b297980d",
   "metadata": {},
   "outputs": [
    {
     "data": {
      "text/plain": [
       "array([[ 1.        ,  5.        ,  0.63635067,  2.        ],\n",
       "       [ 6.        ,  8.        ,  0.77621867,  3.        ],\n",
       "       [ 4.        ,  7.        ,  0.84735079,  2.        ],\n",
       "       [ 3.        , 10.        ,  0.89761169,  3.        ],\n",
       "       [ 0.        ,  9.        ,  0.93350629,  4.        ],\n",
       "       [11.        , 12.        ,  0.96163188,  7.        ],\n",
       "       [ 2.        , 13.        ,  0.98714234,  8.        ]])"
      ]
     },
     "execution_count": 24,
     "metadata": {},
     "output_type": "execute_result"
    }
   ],
   "source": [
    "Z"
   ]
  },
  {
   "cell_type": "code",
   "execution_count": 25,
   "id": "7d9207f5",
   "metadata": {},
   "outputs": [
    {
     "data": {
      "text/plain": [
       "array([7, 4, 8, 3, 1, 5, 6, 2], dtype=int32)"
      ]
     },
     "execution_count": 25,
     "metadata": {},
     "output_type": "execute_result"
    }
   ],
   "source": [
    "C"
   ]
  },
  {
   "cell_type": "code",
   "execution_count": 32,
   "id": "089361f6",
   "metadata": {},
   "outputs": [
    {
     "data": {
      "text/plain": [
       "<matplotlib.collections.PathCollection at 0x7f9218c84c40>"
      ]
     },
     "execution_count": 32,
     "metadata": {},
     "output_type": "execute_result"
    },
    {
     "data": {
      "image/png": "[encoded data removed]",
      "text/plain": [
       "<Figure size 432x288 with 1 Axes>"
      ]
     },
     "metadata": {
      "needs_background": "light"
     },
     "output_type": "display_data"
    }
   ],
   "source": [
    "plt.scatter(df.index,C)"
   ]
  },
  {
   "cell_type": "code",
   "execution_count": null,
   "id": "60f8baf4",
   "metadata": {},
   "outputs": [],
   "source": []
  }
 ],
 "metadata": {
  "kernelspec": {
   "display_name": "Python 3",
   "language": "python",
   "name": "python3"
  },
  "language_info": {
   "codemirror_mode": {
    "name": "ipython",
    "version": 3
   },
   "file_extension": ".py",
   "mimetype": "text/x-python",
   "name": "python",
   "nbconvert_exporter": "python",
   "pygments_lexer": "ipython3",
   "version": "3.8.8"
  }
 },
 "nbformat": 4,
 "nbformat_minor": 5
}
