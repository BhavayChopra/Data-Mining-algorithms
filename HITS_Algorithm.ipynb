{
 "cells": [
  {
   "cell_type": "markdown",
   "metadata": {},
   "source": [
    "# HITS Algorithm\n",
    "\n",
    "This is a `Hyperlink Induced Topic Search` Algorithm.\n",
    "<br>\n",
    "We will solve two questions in this notebook, using both the `networkx` library, and also using our own custom implementation.\n",
    "\n",
    "[Reference Link](https://www.geeksforgeeks.org/hyperlink-induced-topic-search-hits-algorithm-using-networxx-module-python/)"
   ]
  },
  {
   "cell_type": "code",
   "execution_count": 1,
   "metadata": {},
   "outputs": [],
   "source": [
    "# For finding square root, and other mathematical calculation\n",
    "import math\n",
    "\n",
    "# For the library based networkx implementation of the HITS algorithm\n",
    "import networkx as nx\n",
    "\n",
    "# Import the Pyplot library for plotting the created graph\n",
    "from matplotlib import pyplot as plt"
   ]
  },
  {
   "cell_type": "code",
   "execution_count": 2,
   "metadata": {},
   "outputs": [],
   "source": [
    "# Number of Maximum Iterations specfied\n",
    "\n",
    "num_iterations = 50"
   ]
  },
  {
   "cell_type": "markdown",
   "metadata": {},
   "source": [
    "## Question - 1\n",
    "\n",
    "Compute the Hubs and authority weights for the following graph.\n",
    "\n",
    "![image.png](./image.png)"
   ]
  },
  {
   "cell_type": "markdown",
   "metadata": {},
   "source": [
    "### 1.1 Custom Implementation"
   ]
  },
  {
   "cell_type": "code",
   "execution_count": 3,
   "metadata": {},
   "outputs": [],
   "source": [
    "# Names of the vertices\n",
    "vertices_names_1 = ['1', '2', '3', '4']\n",
    "\n",
    "# Number of vertices\n",
    "num_vertices_1 = 4"
   ]
  },
  {
   "cell_type": "code",
   "execution_count": 7,
   "metadata": {},
   "outputs": [],
   "source": [
    "# We will first form a adjacency matrix denoting the relationships shown in the image above.\n",
    "\n",
    "adjacency_matrix_1 = [\n",
    "    [0, 1, 1, 0],\n",
    "    [0, 0, 0, 0],\n",
    "    [0, 1, 0, 1],\n",
    "    [1, 0, 0, 0]\n",
    "]"
   ]
  },
  {
   "cell_type": "code",
   "execution_count": 5,
   "metadata": {},
   "outputs": [
    {
     "data": {
      "text/plain": [
       "[[1, 2], [], [1, 3], [0]]"
      ]
     },
     "execution_count": 5,
     "metadata": {},
     "output_type": "execute_result"
    }
   ],
   "source": [
    "# Convert the adjacency matrix into any other form for the easy access of the data.\n",
    "\n",
    "# Store the out-bound vertices for each vertex\n",
    "outbound_vertices_1 = [[] for _ in range(num_vertices_1)]\n",
    "\n",
    "for i in range(num_vertices_1) :\n",
    "    for j in range(num_vertices_1) :\n",
    "        if adjacency_matrix_1[i][j] == 1 :\n",
    "            outbound_vertices_1[i].append(j)\n",
    "\n",
    "outbound_vertices_1"
   ]
  },
  {
   "cell_type": "code",
   "execution_count": 6,
   "metadata": {},
   "outputs": [
    {
     "data": {
      "text/plain": [
       "[[3], [0, 2], [0], [2]]"
      ]
     },
     "execution_count": 6,
     "metadata": {},
     "output_type": "execute_result"
    }
   ],
   "source": [
    "# Store the in-bound vertices for each vertex\n",
    "inbound_vertices_1 = [[] for _ in range(num_vertices_1)]\n",
    "\n",
    "for i in range(num_vertices_1) :\n",
    "    for j in range(num_vertices_1) :\n",
    "        if adjacency_matrix_1[j][i] == 1 :\n",
    "            inbound_vertices_1[i].append(j)\n",
    "\n",
    "inbound_vertices_1"
   ]
  },
  {
   "cell_type": "code",
   "execution_count": 43,
   "metadata": {},
   "outputs": [],
   "source": [
    "# We will initialize the `authority` and the `hub` scores.\n",
    "\n",
    "authority_scores_1 = [1] * num_vertices_1\n",
    "hub_scores_1 = [1] * num_vertices_1"
   ]
  },
  {
   "cell_type": "code",
   "execution_count": 44,
   "metadata": {},
   "outputs": [],
   "source": [
    "# Implement the algorithm for the specfied number of iterations \n",
    "\n",
    "for itr in range(num_iterations) :\n",
    "    \n",
    "    # Copy the current authority, and hub scores\n",
    "    old_authority_scores = authority_scores_1[:]\n",
    "    old_hub_scores = hub_scores_1[:]\n",
    "    \n",
    "    # Update the authority and hub scores\n",
    "    for i in range(num_vertices_1) :\n",
    "        authority_scores_1[i] = sum([old_hub_scores[j] for j in inbound_vertices_1[i]])\n",
    "        hub_scores_1[i] = sum([old_authority_scores[j] for j in outbound_vertices_1[i]])\n",
    "    \n",
    "    # Normalize the values\n",
    "    a_normal = math.sqrt(sum([i**2 for i in authority_scores_1]))\n",
    "    h_normal = math.sqrt(sum([i**2 for i in hub_scores_1]))\n",
    "    for i in range(num_vertices_1) :\n",
    "        authority_scores_1[i] = authority_scores_1[i] / a_normal\n",
    "        hub_scores_1[i] = hub_scores_1[i] / h_normal"
   ]
  },
  {
   "cell_type": "code",
   "execution_count": 45,
   "metadata": {},
   "outputs": [
    {
     "name": "stdout",
     "output_type": "stream",
     "text": [
      "The Authority scores of the nodes after 50 iterations : \n",
      "1  :  7.227436187279358e-13\n",
      "2  :  0.816496580927726\n",
      "3  :  0.408248290463863\n",
      "4  :  0.408248290463863\n"
     ]
    }
   ],
   "source": [
    "# Print the Authority scores\n",
    "\n",
    "print(f\"The Authority scores of the nodes after {num_iterations} iterations : \")\n",
    "for i in range(num_vertices_1) :\n",
    "    print(vertices_names_1[i], \" : \", authority_scores_1[i])"
   ]
  },
  {
   "cell_type": "code",
   "execution_count": 46,
   "metadata": {},
   "outputs": [
    {
     "name": "stdout",
     "output_type": "stream",
     "text": [
      "The Hub scores of the nodes after 50 iterations : \n",
      "1  :  0.7071067811865476\n",
      "2  :  0.0\n",
      "3  :  0.7071067811865476\n",
      "4  :  8.34552445655316e-13\n"
     ]
    }
   ],
   "source": [
    "# Print the Hub scores\n",
    "\n",
    "print(f\"The Hub scores of the nodes after {num_iterations} iterations : \")\n",
    "for i in range(num_vertices_1) :\n",
    "    print(vertices_names_1[i], \" : \", hub_scores_1[i])"
   ]
  },
  {
   "cell_type": "markdown",
   "metadata": {},
   "source": [
    "### 1.2 Networkx Implementation"
   ]
  },
  {
   "cell_type": "code",
   "execution_count": 4,
   "metadata": {},
   "outputs": [],
   "source": [
    "# Create an instance of the Graph class\n",
    "# We are using a Directed graph due to the nature of our problem.\n",
    "\n",
    "graph_1 = nx.DiGraph()"
   ]
  },
  {
   "cell_type": "code",
   "execution_count": 5,
   "metadata": {},
   "outputs": [],
   "source": [
    "# Load the nodes into the graph\n",
    "\n",
    "graph_1.add_nodes_from(vertices_names_1)"
   ]
  },
  {
   "cell_type": "code",
   "execution_count": 8,
   "metadata": {},
   "outputs": [],
   "source": [
    "# Add the edges from the adjacency matrix\n",
    "\n",
    "for i in range(num_vertices_1) :\n",
    "    for j in range(num_vertices_1) :\n",
    "        if adjacency_matrix_1[i][j] == 1 :\n",
    "            graph_1.add_edge(vertices_names_1[i], vertices_names_1[j])"
   ]
  },
  {
   "cell_type": "code",
   "execution_count": 9,
   "metadata": {},
   "outputs": [
    {
     "data": {
      "image/png": "[encoded data removed]",
      "text/plain": [
       "<Figure size 432x288 with 1 Axes>"
      ]
     },
     "metadata": {},
     "output_type": "display_data"
    }
   ],
   "source": [
    "# Draw generated graph\n",
    "\n",
    "nx.draw_networkx(graph_1, pos=nx.circular_layout(graph_1), arrows=True, with_labels=True)\n",
    "plt.show()"
   ]
  },
  {
   "cell_type": "code",
   "execution_count": 10,
   "metadata": {},
   "outputs": [],
   "source": [
    "# Compute the scores\n",
    "\n",
    "hub_scores_networkx_1, authority_scores_networkx_1 = nx.hits(graph_1, normalized = True)"
   ]
  },
  {
   "cell_type": "code",
   "execution_count": 11,
   "metadata": {},
   "outputs": [
    {
     "name": "stdout",
     "output_type": "stream",
     "text": [
      "The Authority scores of the nodes using Networkx library : \n",
      "1  :  1.93588109003726e-09\n",
      "2  :  0.4999999990320594\n",
      "3  :  0.2499999995160297\n",
      "4  :  0.2499999995160297\n"
     ]
    }
   ],
   "source": [
    "# Print the Authority scores\n",
    "\n",
    "print(\"The Authority scores of the nodes using Networkx library : \")\n",
    "for k, v in authority_scores_networkx_1.items() :\n",
    "    print(k, \" : \", v)"
   ]
  },
  {
   "cell_type": "code",
   "execution_count": 12,
   "metadata": {},
   "outputs": [
    {
     "name": "stdout",
     "output_type": "stream",
     "text": [
      "The Hub scores of the nodes using Networkx library : \n",
      "1  :  0.4999999993547063\n",
      "2  :  0.0\n",
      "3  :  0.4999999993547063\n",
      "4  :  1.2905873941909817e-09\n"
     ]
    }
   ],
   "source": [
    "# Print the Hub scores\n",
    "\n",
    "print(\"The Hub scores of the nodes using Networkx library : \")\n",
    "for k, v in hub_scores_networkx_1.items() :\n",
    "    print(k, \" : \", v)"
   ]
  },
  {
   "cell_type": "markdown",
   "metadata": {},
   "source": [
    "### 1.3 Result\n",
    "We can notice that both these methods give the authority and hub scores of the pages in the same order."
   ]
  },
  {
   "cell_type": "code",
   "execution_count": null,
   "metadata": {},
   "outputs": [],
   "source": []
  },
  {
   "cell_type": "markdown",
   "metadata": {},
   "source": [
    "## Question - 2\n",
    "\n",
    "Assume a small universe of four web pages: `A, B, C, D`. Links from a page to itself, or multiple outbound links from one single page to another single page, are ignored. \n",
    "<br>\n",
    "The following is the configaration of the nodes :\n",
    "* Page B had a link to pages C and A\n",
    "* Page C had a link to page A\n",
    "* Page D had links to all three pages\n",
    "\n",
    "\n",
    "Compute the `Authority` and `Hub` scores of the given web pages."
   ]
  },
  {
   "cell_type": "markdown",
   "metadata": {},
   "source": [
    "### 2.1 Custom Implementation"
   ]
  },
  {
   "cell_type": "code",
   "execution_count": 3,
   "metadata": {},
   "outputs": [],
   "source": [
    "# Names of the vertices\n",
    "vertices_names_2 = ['A', 'B', 'C', 'D']\n",
    "\n",
    "# Number of vertices\n",
    "num_vertices_2 = 4"
   ]
  },
  {
   "cell_type": "code",
   "execution_count": 4,
   "metadata": {},
   "outputs": [],
   "source": [
    "# We will first form a adjacency matrix denoting the relationships shown in the image above.\n",
    "\n",
    "adjacency_matrix_2 = [\n",
    "    [0, 0, 0, 0],\n",
    "    [1, 0, 1, 0],\n",
    "    [1, 0, 0, 0],\n",
    "    [1, 1, 1, 0]\n",
    "]"
   ]
  },
  {
   "cell_type": "code",
   "execution_count": 5,
   "metadata": {},
   "outputs": [
    {
     "data": {
      "text/plain": [
       "[[], [0, 2], [0], [0, 1, 2]]"
      ]
     },
     "execution_count": 5,
     "metadata": {},
     "output_type": "execute_result"
    }
   ],
   "source": [
    "# Convert the adjacency matrix into any other form for the easy access of the data.\n",
    "\n",
    "# Store the out-bound vertices for each vertex\n",
    "outbound_vertices_2 = [[] for _ in range(num_vertices_2)]\n",
    "\n",
    "for i in range(num_vertices_2) :\n",
    "    for j in range(num_vertices_2) :\n",
    "        if adjacency_matrix_2[i][j] == 1 :\n",
    "            outbound_vertices_2[i].append(j)\n",
    "\n",
    "outbound_vertices_2"
   ]
  },
  {
   "cell_type": "code",
   "execution_count": 6,
   "metadata": {},
   "outputs": [
    {
     "data": {
      "text/plain": [
       "[[1, 2, 3], [3], [1, 3], []]"
      ]
     },
     "execution_count": 6,
     "metadata": {},
     "output_type": "execute_result"
    }
   ],
   "source": [
    "# Store the in-bound vertices for each vertex\n",
    "inbound_vertices_2 = [[] for _ in range(num_vertices_2)]\n",
    "\n",
    "for i in range(num_vertices_2) :\n",
    "    for j in range(num_vertices_2) :\n",
    "        if adjacency_matrix_2[j][i] == 1 :\n",
    "            inbound_vertices_2[i].append(j)\n",
    "\n",
    "inbound_vertices_2"
   ]
  },
  {
   "cell_type": "code",
   "execution_count": 7,
   "metadata": {},
   "outputs": [],
   "source": [
    "# We will initialize the `authority` and the `hub` scores.\n",
    "\n",
    "authority_scores_2 = [1] * num_vertices_2\n",
    "hub_scores_2 = [1] * num_vertices_2"
   ]
  },
  {
   "cell_type": "code",
   "execution_count": 8,
   "metadata": {},
   "outputs": [],
   "source": [
    "# Implement the algorithm for the specfied number of iterations \n",
    "\n",
    "for itr in range(num_iterations) :\n",
    "    \n",
    "    # Copy the current authority, and hub scores\n",
    "    old_authority_scores = authority_scores_2[:]\n",
    "    old_hub_scores = hub_scores_2[:]\n",
    "    \n",
    "    # Update the authority and hub scores\n",
    "    for i in range(num_vertices_2) :\n",
    "        authority_scores_2[i] = sum([old_hub_scores[j] for j in inbound_vertices_2[i]])\n",
    "        hub_scores_2[i] = sum([old_authority_scores[j] for j in outbound_vertices_2[i]])\n",
    "    \n",
    "    # Normalize the values\n",
    "    a_normal = math.sqrt(sum([i**2 for i in authority_scores_2]))\n",
    "    h_normal = math.sqrt(sum([i**2 for i in hub_scores_2]))\n",
    "    for i in range(num_vertices_2) :\n",
    "        authority_scores_2[i] = authority_scores_2[i] / a_normal\n",
    "        hub_scores_2[i] = hub_scores_2[i] / h_normal"
   ]
  },
  {
   "cell_type": "code",
   "execution_count": 9,
   "metadata": {},
   "outputs": [
    {
     "name": "stdout",
     "output_type": "stream",
     "text": [
      "The Authority scores of the nodes after 50 iterations : \n",
      "A  :  0.7369762290995783\n",
      "B  :  0.3279852776056818\n",
      "C  :  0.5910090485061036\n",
      "D  :  0.0\n"
     ]
    }
   ],
   "source": [
    "# Print the Authority scores\n",
    "\n",
    "print(f\"The Authority scores of the nodes after {num_iterations} iterations : \")\n",
    "for i in range(num_vertices_2) :\n",
    "    print(vertices_names_2[i], \" : \", authority_scores_2[i])"
   ]
  },
  {
   "cell_type": "code",
   "execution_count": 10,
   "metadata": {},
   "outputs": [
    {
     "name": "stdout",
     "output_type": "stream",
     "text": [
      "The Hub scores of the nodes after 50 iterations : \n",
      "A  :  0.0\n",
      "B  :  0.5910090485061036\n",
      "C  :  0.32798527760568175\n",
      "D  :  0.7369762290995782\n"
     ]
    }
   ],
   "source": [
    "# Print the Hub scores\n",
    "\n",
    "print(f\"The Hub scores of the nodes after {num_iterations} iterations : \")\n",
    "for i in range(num_vertices_2) :\n",
    "    print(vertices_names_2[i], \" : \", hub_scores_2[i])"
   ]
  },
  {
   "cell_type": "markdown",
   "metadata": {},
   "source": [
    "### 2.2 Networkx Implementation"
   ]
  },
  {
   "cell_type": "code",
   "execution_count": 11,
   "metadata": {},
   "outputs": [],
   "source": [
    "# Create an instance of the Graph class\n",
    "# We are using a Directed graph due to the nature of our problem.\n",
    "\n",
    "graph_2 = nx.DiGraph()"
   ]
  },
  {
   "cell_type": "code",
   "execution_count": 12,
   "metadata": {},
   "outputs": [],
   "source": [
    "# Load the nodes into the graph\n",
    "\n",
    "graph_2.add_nodes_from(vertices_names_2)"
   ]
  },
  {
   "cell_type": "code",
   "execution_count": 13,
   "metadata": {},
   "outputs": [],
   "source": [
    "# Add the edges from the adjacency matrix\n",
    "\n",
    "for i in range(num_vertices_2) :\n",
    "    for j in range(num_vertices_2) :\n",
    "        if adjacency_matrix_2[i][j] == 1 :\n",
    "            graph_2.add_edge(vertices_names_2[i], vertices_names_2[j])"
   ]
  },
  {
   "cell_type": "code",
   "execution_count": 14,
   "metadata": {},
   "outputs": [
    {
     "data": {
      "image/png": "[encoded data removed]",
      "text/plain": [
       "<Figure size 432x288 with 1 Axes>"
      ]
     },
     "metadata": {},
     "output_type": "display_data"
    }
   ],
   "source": [
    "# Draw generated graph\n",
    "\n",
    "nx.draw_networkx(graph_2, pos=nx.circular_layout(graph_2), arrows=True, with_labels=True)\n",
    "plt.show()"
   ]
  },
  {
   "cell_type": "code",
   "execution_count": 15,
   "metadata": {},
   "outputs": [],
   "source": [
    "# Compute the scores\n",
    "\n",
    "hub_scores_networkx_2, authority_scores_networkx_2 = nx.hits(graph_2, normalized = True)"
   ]
  },
  {
   "cell_type": "code",
   "execution_count": 16,
   "metadata": {},
   "outputs": [
    {
     "name": "stdout",
     "output_type": "stream",
     "text": [
      "The Authority scores of the nodes using Networkx library : \n",
      "A  :  0.44504186834925136\n",
      "B  :  0.198062263845162\n",
      "C  :  0.35689586780558674\n",
      "D  :  0.0\n"
     ]
    }
   ],
   "source": [
    "# Print the Authority scores\n",
    "\n",
    "print(\"The Authority scores of the nodes using Networkx library : \")\n",
    "for k, v in authority_scores_networkx_2.items() :\n",
    "    print(k, \" : \", v)"
   ]
  },
  {
   "cell_type": "code",
   "execution_count": 17,
   "metadata": {},
   "outputs": [
    {
     "name": "stdout",
     "output_type": "stream",
     "text": [
      "The Hub scores of the nodes using Networkx library : \n",
      "A  :  0.0\n",
      "B  :  0.35689586792303196\n",
      "C  :  0.1980622643201395\n",
      "D  :  0.4450418677568287\n"
     ]
    }
   ],
   "source": [
    "# Print the Hub scores\n",
    "\n",
    "print(\"The Hub scores of the nodes using Networkx library : \")\n",
    "for k, v in hub_scores_networkx_2.items() :\n",
    "    print(k, \" : \", v)"
   ]
  },
  {
   "cell_type": "markdown",
   "metadata": {},
   "source": [
    "### 2.3 Result\n",
    "We can notice that both these methods give the authority and hub scores of the pages in the same order."
   ]
  },
  {
   "cell_type": "code",
   "execution_count": null,
   "metadata": {},
   "outputs": [],
   "source": []
  }
 ],
 "metadata": {
  "kernelspec": {
   "display_name": "Python 3",
   "language": "python",
   "name": "python3"
  },
  "language_info": {
   "codemirror_mode": {
    "name": "ipython",
    "version": 3
   },
   "file_extension": ".py",
   "mimetype": "text/x-python",
   "name": "python",
   "nbconvert_exporter": "python",
   "pygments_lexer": "ipython3",
   "version": "3.8.8"
  }
 },
 "nbformat": 4,
 "nbformat_minor": 4
}
